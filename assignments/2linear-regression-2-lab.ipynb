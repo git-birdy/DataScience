{
 "cells": [
  {
   "cell_type": "markdown",
   "id": "8ebffefd",
   "metadata": {},
   "source": [
    "# Lab: Linear Regression 2\n",
    "### Katherine Vickstrom"
   ]
  },
  {
   "cell_type": "code",
   "execution_count": 1,
   "id": "d40a9af9",
   "metadata": {},
   "outputs": [],
   "source": [
    "import pandas as pd\n",
    "import numpy as np\n",
    "import seaborn as sns\n",
    "import matplotlib.pyplot as plt\n",
    "from sklearn.linear_model import LinearRegression\n",
    "from sklearn.model_selection import train_test_split"
   ]
  },
  {
   "cell_type": "code",
   "execution_count": 2,
   "id": "bdb817ab",
   "metadata": {},
   "outputs": [],
   "source": [
    "# 1. \n",
    "df = pd.read_csv(\"https://raw.githubusercontent.com/grbruns/cst383/master/machine.csv\")\n",
    "df.index = df['vendor']+' '+df['model']\n",
    "df.drop(['vendor', 'model'], axis=1, inplace=True)\n",
    "df['cs'] = np.round(1e3/df['myct'], 2) # clock speed in MHz "
   ]
  },
  {
   "cell_type": "code",
   "execution_count": 3,
   "id": "8ce58150",
   "metadata": {},
   "outputs": [],
   "source": [
    "# 2.\n",
    "y = df['prp'].values\n",
    "predictors = ['mmin', 'chmax']\n",
    "X=df[predictors].values"
   ]
  },
  {
   "cell_type": "code",
   "execution_count": 4,
   "id": "9defd4b4",
   "metadata": {},
   "outputs": [
    {
     "data": {
      "text/plain": [
       "LinearRegression()"
      ]
     },
     "execution_count": 4,
     "metadata": {},
     "output_type": "execute_result"
    }
   ],
   "source": [
    "# 3.\n",
    "X_train, X_test, y_train, y_test = train_test_split(X, y, test_size=0.2, random_state=42)\n",
    "reg = LinearRegression()\n",
    "reg.fit(X_train, y_train)"
   ]
  },
  {
   "cell_type": "code",
   "execution_count": 5,
   "id": "44454aa6",
   "metadata": {},
   "outputs": [
    {
     "name": "stdout",
     "output_type": "stream",
     "text": [
      "mmin: 0.03\n",
      "chmax: 2.47\n"
     ]
    }
   ],
   "source": [
    "# 4.\n",
    "print(\"mmin: {:.2f}\".format(reg.coef_[0]))\n",
    "print(\"chmax: {:.2f}\".format(reg.coef_[1]))"
   ]
  },
  {
   "cell_type": "code",
   "execution_count": 6,
   "id": "cf06cdc6",
   "metadata": {},
   "outputs": [
    {
     "name": "stdout",
     "output_type": "stream",
     "text": [
      "R-squared with both predictors : 0.74\n",
      "R-squared with one predictor : 0.66\n"
     ]
    }
   ],
   "source": [
    "# 5.\n",
    "# Accuracy with both predictors\n",
    "r1 = reg.score(X_train, y_train) \n",
    "print('R-squared with both predictors : {:.2f}'.format(r1))\n",
    "\n",
    "# Accuracy with one predictor \n",
    "predictions = ['mmax']\n",
    "target = 'prp'\n",
    "X = df[predictions].values\n",
    "y = df[target].values\n",
    "X_train2, X_test2, y_train2, y_test2 = train_test_split(X, y, test_size=0.30, random_state=42) \n",
    "reg2 = LinearRegression()\n",
    "reg2.fit(X_train2, y_train2)\n",
    "\n",
    "r2 = reg2.score(X_train2, y_train2) \n",
    "print('R-squared with one predictor : {:.2f}'.format(r2))\n",
    "\n",
    "# Both of these predictors used together result in a higher r squared value "
   ]
  },
  {
   "cell_type": "code",
   "execution_count": 7,
   "id": "6e885250",
   "metadata": {},
   "outputs": [
    {
     "name": "stdout",
     "output_type": "stream",
     "text": [
      "R-squared with both predictors : 0.74\n"
     ]
    }
   ],
   "source": [
    "# 6.\n",
    "r1 = reg.score(X_train, y_train) \n",
    "print('R-squared with both predictors : {:.2f}'.format(r1))\n",
    "# r^2 value for the model is .6 or larger"
   ]
  },
  {
   "cell_type": "code",
   "execution_count": 8,
   "id": "6d97e0e7",
   "metadata": {},
   "outputs": [
    {
     "data": {
      "text/plain": [
       "<AxesSubplot:>"
      ]
     },
     "execution_count": 8,
     "metadata": {},
     "output_type": "execute_result"
    },
    {
     "data": {
      "image/png": "[encoded data removed]",
      "text/plain": [
       "<Figure size 432x288 with 1 Axes>"
      ]
     },
     "metadata": {
      "needs_background": "light"
     },
     "output_type": "display_data"
    }
   ],
   "source": [
    "# 7.\n",
    "predicted = reg.predict(X_test)\n",
    "sns.scatterplot(x=predicted, y=y_test)"
   ]
  },
  {
   "cell_type": "code",
   "execution_count": null,
   "id": "dc17d354",
   "metadata": {},
   "outputs": [],
   "source": []
  }
 ],
 "metadata": {
  "kernelspec": {
   "display_name": "Python 3 (ipykernel)",
   "language": "python",
   "name": "python3"
  },
  "language_info": {
   "codemirror_mode": {
    "name": "ipython",
    "version": 3
   },
   "file_extension": ".py",
   "mimetype": "text/x-python",
   "name": "python",
   "nbconvert_exporter": "python",
   "pygments_lexer": "ipython3",
   "version": "3.9.7"
  }
 },
 "nbformat": 4,
 "nbformat_minor": 5
}
