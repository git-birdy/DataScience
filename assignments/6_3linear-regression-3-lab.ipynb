{
 "cells": [
  {
   "cell_type": "markdown",
   "id": "4edabfcd",
   "metadata": {},
   "source": [
    "# Lab: Linear Regression 3\n",
    "### Katherine Vickstrom"
   ]
  },
  {
   "cell_type": "code",
   "execution_count": 20,
   "id": "a9e3bcb8",
   "metadata": {},
   "outputs": [],
   "source": [
    "import numpy as np\n",
    "import pandas as pd\n",
    "import seaborn as sns\n",
    "import random \n",
    "import matplotlib.pyplot as plt\n",
    "from sklearn.linear_model import LinearRegression\n",
    "from sklearn.model_selection import train_test_split"
   ]
  },
  {
   "cell_type": "code",
   "execution_count": 21,
   "id": "2764e55e",
   "metadata": {},
   "outputs": [],
   "source": [
    "# 1. \n",
    "df = pd.read_csv(\"https://raw.githubusercontent.com/grbruns/cst383/master/machine.csv\")\n",
    "df.index = df['vendor']+' '+df['model']\n",
    "df.drop(['vendor', 'model'], axis=1, inplace=True)\n",
    "df['cs'] = np.round(1e3/df['myct'], 2) # clock speed in MHz "
   ]
  },
  {
   "cell_type": "code",
   "execution_count": 22,
   "id": "e2ecd0a9",
   "metadata": {},
   "outputs": [],
   "source": [
    "# 2.\n",
    "predictors = ['cach', 'chmin']\n",
    "X = df[predictors].values\n",
    "y=df['prp'].values\n",
    "X_train, X_test, y_train, y_test=train_test_split(X,y,test_size=.30,random_state=42)"
   ]
  },
  {
   "cell_type": "code",
   "execution_count": 23,
   "id": "142a90f2",
   "metadata": {},
   "outputs": [],
   "source": [
    "# 3.\n",
    "regr=LinearRegression()\n",
    "regr.fit(X_train, y_train)\n",
    "predicted=regr.predict(X_test)"
   ]
  },
  {
   "cell_type": "code",
   "execution_count": 24,
   "id": "40cb4309",
   "metadata": {},
   "outputs": [
    {
     "name": "stdout",
     "output_type": "stream",
     "text": [
      "183.3100575455339\n"
     ]
    }
   ],
   "source": [
    "# 4.\n",
    "rmse=np.sqrt(((y_test - predicted)**2).mean())\n",
    "print(rmse)"
   ]
  },
  {
   "cell_type": "code",
   "execution_count": null,
   "id": "0c7c235b",
   "metadata": {},
   "outputs": [],
   "source": []
  }
 ],
 "metadata": {
  "kernelspec": {
   "display_name": "Python 3 (ipykernel)",
   "language": "python",
   "name": "python3"
  },
  "language_info": {
   "codemirror_mode": {
    "name": "ipython",
    "version": 3
   },
   "file_extension": ".py",
   "mimetype": "text/x-python",
   "name": "python",
   "nbconvert_exporter": "python",
   "pygments_lexer": "ipython3",
   "version": "3.9.7"
  }
 },
 "nbformat": 4,
 "nbformat_minor": 5
}
