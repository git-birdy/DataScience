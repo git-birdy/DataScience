{
 "cells": [
  {
   "cell_type": "markdown",
   "id": "d830531b",
   "metadata": {},
   "source": [
    "# Lab: Linear Regression 4\n",
    "### Katherine Vickstrom"
   ]
  },
  {
   "cell_type": "code",
   "execution_count": 25,
   "id": "39d2f502",
   "metadata": {},
   "outputs": [],
   "source": [
    "import numpy as np\n",
    "import pandas as pd\n",
    "import seaborn as sns\n",
    "import random \n",
    "import matplotlib.pyplot as plt\n",
    "from sklearn.linear_model import LinearRegression\n",
    "from sklearn.model_selection import train_test_split"
   ]
  },
  {
   "cell_type": "code",
   "execution_count": 26,
   "id": "17b198c0",
   "metadata": {},
   "outputs": [],
   "source": [
    "# 1. \n",
    "df = pd.read_csv(\"https://raw.githubusercontent.com/grbruns/cst383/master/machine.csv\")\n",
    "df.index = df['vendor']+' '+df['model']\n",
    "df.drop(['vendor', 'model'], axis=1, inplace=True)\n",
    "df['cs'] = np.round(1e3/df['myct'], 2) # clock speed in MHz "
   ]
  },
  {
   "cell_type": "code",
   "execution_count": 27,
   "id": "6b680df2",
   "metadata": {},
   "outputs": [],
   "source": [
    "# 2.\n",
    "predictors = ['myct','mmin', 'mmax', 'chmax']\n",
    "target = 'prp'\n",
    "X = df[predictors].values\n",
    "y = df[target].values\n",
    "X_train, X_test, y_train, y_test = train_test_split(X, y, test_size=.30, random_state=42)"
   ]
  },
  {
   "cell_type": "code",
   "execution_count": 23,
   "id": "c398d793",
   "metadata": {},
   "outputs": [],
   "source": [
    "# 3.\n",
    "regr=LinearRegression()\n",
    "regr.fit(X_train, y_train)\n",
    "predicted=regr.predict(X_test)"
   ]
  },
  {
   "cell_type": "code",
   "execution_count": 28,
   "id": "cbdd6c45",
   "metadata": {},
   "outputs": [
    {
     "name": "stdout",
     "output_type": "stream",
     "text": [
      "RMSE 1: 183.31\n"
     ]
    }
   ],
   "source": [
    "# 4.\n",
    "rmse=np.sqrt(((y_test - predicted)**2).mean())\n",
    "print('RMSE 1: {:.2f}'.format(rmse)) "
   ]
  },
  {
   "cell_type": "code",
   "execution_count": 29,
   "id": "ddb2242a",
   "metadata": {},
   "outputs": [
    {
     "name": "stdout",
     "output_type": "stream",
     "text": [
      "RMSE 2: 68.42\n"
     ]
    }
   ],
   "source": [
    "# 5.\n",
    "X_train, X_test, y_train, y_test = train_test_split(X, y, test_size=0.30, random_state=12) \n",
    "regr.fit(X_train, y_train)\n",
    "predicted = regr.predict(X_test)\n",
    "rsme = np.sqrt(((predicted - y_test)**2).mean()) \n",
    "print('RMSE 2: {:.2f}'.format(rsme))"
   ]
  },
  {
   "cell_type": "code",
   "execution_count": null,
   "id": "efb84b6f",
   "metadata": {},
   "outputs": [],
   "source": []
  }
 ],
 "metadata": {
  "kernelspec": {
   "display_name": "Python 3 (ipykernel)",
   "language": "python",
   "name": "python3"
  },
  "language_info": {
   "codemirror_mode": {
    "name": "ipython",
    "version": 3
   },
   "file_extension": ".py",
   "mimetype": "text/x-python",
   "name": "python",
   "nbconvert_exporter": "python",
   "pygments_lexer": "ipython3",
   "version": "3.9.7"
  }
 },
 "nbformat": 4,
 "nbformat_minor": 5
}
